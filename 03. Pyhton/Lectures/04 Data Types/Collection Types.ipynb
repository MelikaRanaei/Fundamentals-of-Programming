{
 "cells": [
  {
   "cell_type": "markdown",
   "metadata": {},
   "source": [
    "An image here"
   ]
  },
  {
   "cell_type": "markdown",
   "metadata": {},
   "source": [
    "## Overview"
   ]
  },
  {
   "cell_type": "markdown",
   "metadata": {},
   "source": [
    "In Python, composite data types, also referred to as collection data types, serve as powerful structures for organizing and managing multiple pieces of data efficiently. These structures facilitate the handling of groups of related elements. Python has four built-in data structures—List, Tuple, Set, and Dictionary—each serving distinct purposes. These structures can be categorized into mutable, immutable, set type, and mappings, providing a versatile toolkit for various programming needs. Let's delve into the key features of these essential composite data types. 🚀"
   ]
  },
  {
   "cell_type": "markdown",
   "metadata": {},
   "source": [
    "## 01. List"
   ]
  },
  {
   "cell_type": "markdown",
   "metadata": {},
   "source": [
    "A List is a versatile and mutable collection of items. They share similarities with arrays in other programming languages but offer more extensive functionality. Unlike arrays, lists in Python can hold objects of different types, such as integers, strings, other lists, and more. Lists are defined using square brackets [] and support various operations like indexing, slicing, and appending."
   ]
  },
  {
   "cell_type": "code",
   "execution_count": 1,
   "metadata": {},
   "outputs": [
    {
     "data": {
      "text/plain": [
       "[1, 2.0, 'hello', (1, 'statistic'), [1, 2, 'hi']]"
      ]
     },
     "execution_count": 1,
     "metadata": {},
     "output_type": "execute_result"
    }
   ],
   "source": [
    "[1, 2.0, 'hello', (1, 'statistic'), [1, 2, 'hi']]"
   ]
  },
  {
   "cell_type": "markdown",
   "metadata": {},
   "source": [
    "## 02. Tuple"
   ]
  },
  {
   "cell_type": "markdown",
   "metadata": {},
   "source": [
    "A Tuple stands as a flexible and immutable collection of items within Python. Unlike lists, tuples cannot be modified after creation, making them immutable. Tuples are defined using parentheses () and support operations like indexing and slicing. They are well-suited for representing fixed collections of elements, offering a reliable way to store and retrieve ordered data."
   ]
  },
  {
   "cell_type": "code",
   "execution_count": 2,
   "metadata": {},
   "outputs": [
    {
     "data": {
      "text/plain": [
       "[1, 2.0, 'hello', (1, 'statistic'), [1, 2, 'hi']]"
      ]
     },
     "execution_count": 2,
     "metadata": {},
     "output_type": "execute_result"
    }
   ],
   "source": [
    "[1, 2.0, 'hello', (1, 'statistic'), [1, 2, 'hi']]"
   ]
  },
  {
   "cell_type": "markdown",
   "metadata": {},
   "source": [
    "## 03. Dictionary"
   ]
  },
  {
   "cell_type": "code",
   "execution_count": 7,
   "metadata": {},
   "outputs": [
    {
     "ename": "TypeError",
     "evalue": "unhashable type: 'list'",
     "output_type": "error",
     "traceback": [
      "\u001b[0;31m---------------------------------------------------------------------------\u001b[0m",
      "\u001b[0;31mTypeError\u001b[0m                                 Traceback (most recent call last)",
      "\u001b[1;32m/home/afsharino/Desktop/Fundamentals-of-Programming/03. Pyhton/Lectures/04 Data Types/Collection Types.ipynb Cell 11\u001b[0m line \u001b[0;36m1\n\u001b[0;32m----> <a href='vscode-notebook-cell:/home/afsharino/Desktop/Fundamentals-of-Programming/03.%20Pyhton/Lectures/04%20Data%20Types/Collection%20Types.ipynb#X30sZmlsZQ%3D%3D?line=0'>1</a>\u001b[0m \u001b[39mhash\u001b[39m(\u001b[39m'\u001b[39m\u001b[39ma\u001b[39m\u001b[39m'\u001b[39m) \u001b[39m==\u001b[39m \u001b[39mhash\u001b[39m([\u001b[39m'\u001b[39m\u001b[39me\u001b[39m\u001b[39m'\u001b[39m])\n",
      "\u001b[0;31mTypeError\u001b[0m: unhashable type: 'list'"
     ]
    }
   ],
   "source": []
  },
  {
   "cell_type": "markdown",
   "metadata": {},
   "source": [
    "## 04. Set"
   ]
  },
  {
   "cell_type": "markdown",
   "metadata": {},
   "source": [
    "A Set is an unordered collection of unique elements.  It is defined using curly braces {} and is useful for tasks like finding unique items in a list or performing set operations such as union, intersection, and difference. They are mutable, but they can only contain immutable Python objects as elements."
   ]
  },
  {
   "cell_type": "code",
   "execution_count": 4,
   "metadata": {},
   "outputs": [
    {
     "data": {
      "text/plain": [
       "{(2, 3), 1, 2.0, 'Hello'}"
      ]
     },
     "execution_count": 4,
     "metadata": {},
     "output_type": "execute_result"
    }
   ],
   "source": [
    "{1, 2.0, 'Hello', (2, 3)}"
   ]
  },
  {
   "cell_type": "code",
   "execution_count": 3,
   "metadata": {},
   "outputs": [
    {
     "ename": "TypeError",
     "evalue": "unhashable type: 'list'",
     "output_type": "error",
     "traceback": [
      "\u001b[0;31m---------------------------------------------------------------------------\u001b[0m",
      "\u001b[0;31mTypeError\u001b[0m                                 Traceback (most recent call last)",
      "\u001b[1;32m/home/afsharino/Desktop/Fundamentals-of-Programming/03. Pyhton/Lectures/04 Data Types/Collection Types.ipynb Cell 13\u001b[0m line \u001b[0;36m1\n\u001b[0;32m----> <a href='vscode-notebook-cell:/home/afsharino/Desktop/Fundamentals-of-Programming/03.%20Pyhton/Lectures/04%20Data%20Types/Collection%20Types.ipynb#X23sZmlsZQ%3D%3D?line=0'>1</a>\u001b[0m {\u001b[39m1\u001b[39m, \u001b[39m2\u001b[39m, [\u001b[39m1\u001b[39m, \u001b[39m2\u001b[39m]}\n",
      "\u001b[0;31mTypeError\u001b[0m: unhashable type: 'list'"
     ]
    }
   ],
   "source": [
    "{1, 2, [1, 2]}"
   ]
  },
  {
   "cell_type": "markdown",
   "metadata": {},
   "source": [
    "This session has provided an overview, setting the stage for our deep dive into the intricacies of Python's composite data types. In the upcoming sessions, we will delve into each type individually, exploring their features, use cases, and advanced operations."
   ]
  },
  {
   "cell_type": "markdown",
   "metadata": {},
   "source": [
    "{[1, 2]: 2}"
   ]
  },
  {
   "cell_type": "markdown",
   "metadata": {},
   "source": []
  }
 ],
 "metadata": {
  "kernelspec": {
   "display_name": "CI",
   "language": "python",
   "name": "python3"
  },
  "language_info": {
   "codemirror_mode": {
    "name": "ipython",
    "version": 3
   },
   "file_extension": ".py",
   "mimetype": "text/x-python",
   "name": "python",
   "nbconvert_exporter": "python",
   "pygments_lexer": "ipython3",
   "version": "3.11.4"
  }
 },
 "nbformat": 4,
 "nbformat_minor": 2
}
