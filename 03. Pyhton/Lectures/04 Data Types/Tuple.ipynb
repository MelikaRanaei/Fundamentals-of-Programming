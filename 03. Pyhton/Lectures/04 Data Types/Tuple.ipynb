{
 "cells": [
  {
   "cell_type": "code",
   "execution_count": 1,
   "id": "324b6484",
   "metadata": {},
   "outputs": [],
   "source": [
    "# an image here"
   ]
  },
  {
   "cell_type": "markdown",
   "id": "d0020395",
   "metadata": {},
   "source": [
    "## Creation"
   ]
  },
  {
   "cell_type": "markdown",
   "id": "cbfa980b",
   "metadata": {},
   "source": [
    "class tuple([iterable]): Tuples may be constructed in a number of ways:\n",
    "\n",
    "- Using a pair of parentheses to denote the empty tuple: ()\n",
    "\n",
    "- Using a trailing comma for a singleton tuple: a, or (a,)\n",
    "\n",
    "- Separating items with commas: a, b, c or (a, b, c)\n",
    "\n",
    "- Using the tuple() built-in: tuple() or tuple(iterable)\n",
    "\n",
    " \n",
    "\n",
    "Note that it is actually the comma which makes a tuple, not the parentheses. The parentheses are optional, except in the empty tuple case, or when they are needed to avoid syntactic ambiguity. For example, f(a, b, c) is a function call with three arguments, while f((a, b, c)) is a function call with a 3-tuple as the sole argument."
   ]
  },
  {
   "cell_type": "code",
   "execution_count": 34,
   "id": "24dad660",
   "metadata": {},
   "outputs": [
    {
     "data": {
      "text/plain": [
       "(1, 2, 3)"
      ]
     },
     "execution_count": 34,
     "metadata": {},
     "output_type": "execute_result"
    }
   ],
   "source": [
    "# A tuple with homogeneous it - with parentheses\n",
    "(1, 2, 3)"
   ]
  },
  {
   "cell_type": "code",
   "execution_count": 33,
   "id": "316aaa93",
   "metadata": {},
   "outputs": [
    {
     "data": {
      "text/plain": [
       "(1, 2, 3)"
      ]
     },
     "execution_count": 33,
     "metadata": {},
     "output_type": "execute_result"
    }
   ],
   "source": [
    "# A tuple with homogeneous it - without parentheses\n",
    "comma_seperated_tuple = 1, 2, 3\n",
    "comma_seperated_tuple"
   ]
  },
  {
   "cell_type": "code",
   "execution_count": 35,
   "id": "469583d3",
   "metadata": {},
   "outputs": [
    {
     "data": {
      "text/plain": [
       "(2.0,\n",
       " 'hello',\n",
       " 50,\n",
       " True,\n",
       " <module 'math' from '/home/afsharino/anaconda3/envs/CI/lib/python3.11/lib-dynload/math.cpython-311-x86_64-linux-gnu.so'>,\n",
       " <function __main__.mixed()>)"
      ]
     },
     "execution_count": 35,
     "metadata": {},
     "output_type": "execute_result"
    }
   ],
   "source": [
    "# A tuple with mixed data types - with parentheses\n",
    "\n",
    "def mixed():\n",
    "    pass\n",
    "\n",
    "import math\n",
    "\n",
    "a = 2.0\n",
    "b = 'hello'\n",
    "c = 50\n",
    "\n",
    "(a, b, c, True, math, mixed)"
   ]
  },
  {
   "cell_type": "code",
   "execution_count": 28,
   "id": "d59ea9b5",
   "metadata": {},
   "outputs": [
    {
     "data": {
      "text/plain": [
       "<generator object <genexpr> at 0x7fcffc21f2a0>"
      ]
     },
     "execution_count": 28,
     "metadata": {},
     "output_type": "execute_result"
    }
   ],
   "source": [
    "(x for x in (1, 2, 3))"
   ]
  },
  {
   "cell_type": "code",
   "execution_count": 29,
   "id": "4dc6ba53",
   "metadata": {},
   "outputs": [
    {
     "data": {
      "text/plain": [
       "(2.0,)"
      ]
     },
     "execution_count": 29,
     "metadata": {},
     "output_type": "execute_result"
    }
   ],
   "source": [
    "a,"
   ]
  },
  {
   "cell_type": "code",
   "execution_count": 30,
   "id": "6b998541",
   "metadata": {},
   "outputs": [
    {
     "data": {
      "text/plain": [
       "(2.0,)"
      ]
     },
     "execution_count": 30,
     "metadata": {},
     "output_type": "execute_result"
    }
   ],
   "source": [
    "(a,)"
   ]
  },
  {
   "cell_type": "code",
   "execution_count": 31,
   "id": "601c32aa",
   "metadata": {},
   "outputs": [
    {
     "data": {
      "text/plain": [
       "2.0"
      ]
     },
     "execution_count": 31,
     "metadata": {},
     "output_type": "execute_result"
    }
   ],
   "source": [
    "(a)"
   ]
  },
  {
   "cell_type": "markdown",
   "id": "743bc949",
   "metadata": {},
   "source": [
    "The constructor builds a tuple whose items are the same and in the same order as iterable’s items. iterable may be either a sequence, a container that supports iteration, or an iterator object. If iterable is already a tuple, it is returned unchanged. For example, tuple('abc') returns ('a', 'b', 'c') and tuple( [1, 2, 3] ) returns (1, 2, 3)."
   ]
  },
  {
   "cell_type": "code",
   "execution_count": 22,
   "id": "5510cedc",
   "metadata": {},
   "outputs": [
    {
     "data": {
      "text/plain": [
       "('a', 'b', 'c')"
      ]
     },
     "execution_count": 22,
     "metadata": {},
     "output_type": "execute_result"
    }
   ],
   "source": [
    "tuple('abc')"
   ]
  },
  {
   "cell_type": "code",
   "execution_count": 23,
   "id": "3de1de26",
   "metadata": {},
   "outputs": [
    {
     "data": {
      "text/plain": [
       "(1, 2, 3)"
      ]
     },
     "execution_count": 23,
     "metadata": {},
     "output_type": "execute_result"
    }
   ],
   "source": [
    "tuple( [1, 2, 3] ) "
   ]
  },
  {
   "cell_type": "markdown",
   "id": "73786ae9",
   "metadata": {},
   "source": [
    "If no argument is given, the constructor creates a new empty tuple, ()."
   ]
  },
  {
   "cell_type": "code",
   "execution_count": 36,
   "id": "7fcbb453",
   "metadata": {},
   "outputs": [
    {
     "data": {
      "text/plain": [
       "()"
      ]
     },
     "execution_count": 36,
     "metadata": {},
     "output_type": "execute_result"
    }
   ],
   "source": [
    "tuple()"
   ]
  },
  {
   "cell_type": "code",
   "execution_count": 37,
   "id": "3cef470f",
   "metadata": {},
   "outputs": [
    {
     "data": {
      "text/plain": [
       "()"
      ]
     },
     "execution_count": 37,
     "metadata": {},
     "output_type": "execute_result"
    }
   ],
   "source": [
    "()"
   ]
  },
  {
   "cell_type": "code",
   "execution_count": 41,
   "id": "97702085",
   "metadata": {},
   "outputs": [
    {
     "data": {
      "text/plain": [
       "(0, 1, 2, 3, 4)"
      ]
     },
     "execution_count": 41,
     "metadata": {},
     "output_type": "execute_result"
    }
   ],
   "source": [
    "range_tuple = tuple(range(5))\n",
    "range_tuple"
   ]
  },
  {
   "cell_type": "markdown",
   "id": "3721f705",
   "metadata": {},
   "source": [
    "nested tuple"
   ]
  },
  {
   "cell_type": "code",
   "execution_count": 39,
   "id": "ae88da11",
   "metadata": {},
   "outputs": [],
   "source": [
    "nested_tuple = (1, 2, 3, (4, 5), (6, 7, (8, 9)))"
   ]
  },
  {
   "cell_type": "markdown",
   "id": "96196459",
   "metadata": {},
   "source": [
    "## Common Built-in Functions"
   ]
  },
  {
   "cell_type": "code",
   "execution_count": 43,
   "id": "0afb25cc",
   "metadata": {},
   "outputs": [
    {
     "data": {
      "text/plain": [
       "5"
      ]
     },
     "execution_count": 43,
     "metadata": {},
     "output_type": "execute_result"
    }
   ],
   "source": [
    "len(range_tuple)"
   ]
  },
  {
   "cell_type": "code",
   "execution_count": 44,
   "id": "e660f691",
   "metadata": {},
   "outputs": [
    {
     "data": {
      "text/plain": [
       "4"
      ]
     },
     "execution_count": 44,
     "metadata": {},
     "output_type": "execute_result"
    }
   ],
   "source": [
    "max(range_tuple)"
   ]
  },
  {
   "cell_type": "code",
   "execution_count": 45,
   "id": "23dffd90",
   "metadata": {},
   "outputs": [
    {
     "data": {
      "text/plain": [
       "0"
      ]
     },
     "execution_count": 45,
     "metadata": {},
     "output_type": "execute_result"
    }
   ],
   "source": [
    "min(range_tuple)"
   ]
  },
  {
   "cell_type": "markdown",
   "id": "a9beadf2",
   "metadata": {},
   "source": [
    "Access tuple elements"
   ]
  },
  {
   "cell_type": "markdown",
   "id": "50a23ec2",
   "metadata": {},
   "source": [
    "<img src=\"../../../images/python/data types/list/indexing.webp\" width=\"800\">"
   ]
  },
  {
   "cell_type": "code",
   "execution_count": 47,
   "id": "05b73835",
   "metadata": {},
   "outputs": [
    {
     "data": {
      "text/plain": [
       "('foo', 'bar', 'baz', 'qux', 'quux', 'corge')"
      ]
     },
     "execution_count": 47,
     "metadata": {},
     "output_type": "execute_result"
    }
   ],
   "source": [
    "sample_tuple = ('foo', 'bar', 'baz', 'qux', 'quux', 'corge')\n",
    "sample_tuple"
   ]
  },
  {
   "cell_type": "code",
   "execution_count": 48,
   "id": "be8eee03",
   "metadata": {},
   "outputs": [
    {
     "data": {
      "text/plain": [
       "('foo', 'foo')"
      ]
     },
     "execution_count": 48,
     "metadata": {},
     "output_type": "execute_result"
    }
   ],
   "source": [
    "sample_tuple[0], sample_tuple[-6]"
   ]
  },
  {
   "cell_type": "code",
   "execution_count": 50,
   "id": "3fb5d5c0",
   "metadata": {},
   "outputs": [
    {
     "data": {
      "text/plain": [
       "'baz'"
      ]
     },
     "execution_count": 50,
     "metadata": {},
     "output_type": "execute_result"
    }
   ],
   "source": [
    "sample_tuple[2]"
   ]
  },
  {
   "cell_type": "code",
   "execution_count": 51,
   "id": "968e60be",
   "metadata": {},
   "outputs": [
    {
     "data": {
      "text/plain": [
       "()"
      ]
     },
     "execution_count": 51,
     "metadata": {},
     "output_type": "execute_result"
    }
   ],
   "source": [
    "# stop < start\n",
    "sample_tuple[-1:-4]"
   ]
  },
  {
   "cell_type": "code",
   "execution_count": 52,
   "id": "c6852111",
   "metadata": {},
   "outputs": [
    {
     "data": {
      "text/plain": [
       "('foo', 'bar')"
      ]
     },
     "execution_count": 52,
     "metadata": {},
     "output_type": "execute_result"
    }
   ],
   "source": [
    "# start < stop\n",
    "sample_tuple[-6:-4]"
   ]
  },
  {
   "cell_type": "code",
   "execution_count": 55,
   "id": "706690d4",
   "metadata": {},
   "outputs": [
    {
     "data": {
      "text/plain": [
       "('corge', 'quux', 'qux')"
      ]
     },
     "execution_count": 55,
     "metadata": {},
     "output_type": "execute_result"
    }
   ],
   "source": [
    "# iterate in reverse order\n",
    "sample_tuple[-1:2:-1]"
   ]
  },
  {
   "cell_type": "code",
   "execution_count": 56,
   "id": "750f93bd",
   "metadata": {},
   "outputs": [
    {
     "data": {
      "text/plain": [
       "('corge', 'quux', 'qux', 'baz', 'bar', 'foo')"
      ]
     },
     "execution_count": 56,
     "metadata": {},
     "output_type": "execute_result"
    }
   ],
   "source": [
    "# Reverse tuple\n",
    "sample_tuple[::-1]"
   ]
  },
  {
   "cell_type": "code",
   "execution_count": 57,
   "id": "eeefa30a",
   "metadata": {},
   "outputs": [
    {
     "data": {
      "text/plain": [
       "('foo', 'bar', 'baz', 'qux', 'quux')"
      ]
     },
     "execution_count": 57,
     "metadata": {},
     "output_type": "execute_result"
    }
   ],
   "source": [
    "# start: inclusive, stop: exclusive\n",
    "sample_tuple[:5]"
   ]
  },
  {
   "cell_type": "markdown",
   "id": "56a619bb",
   "metadata": {},
   "source": [
    "## Update Elements"
   ]
  },
  {
   "cell_type": "markdown",
   "id": "aa4ad643",
   "metadata": {},
   "source": [
    "One significant distinction to remember is, unlike lists, you cannot change the elements of a tuple after it is defined. Attempting to do so will result in a `TypeError`."
   ]
  },
  {
   "cell_type": "code",
   "execution_count": 58,
   "id": "1ccc622a",
   "metadata": {},
   "outputs": [
    {
     "name": "stdout",
     "output_type": "stream",
     "text": [
      "('foo', 'bar', 'baz', 'qux', 'quux', 'corge')\n"
     ]
    },
    {
     "ename": "TypeError",
     "evalue": "'tuple' object does not support item assignment",
     "output_type": "error",
     "traceback": [
      "\u001b[0;31m---------------------------------------------------------------------------\u001b[0m",
      "\u001b[0;31mTypeError\u001b[0m                                 Traceback (most recent call last)",
      "Cell \u001b[0;32mIn[58], line 2\u001b[0m\n\u001b[1;32m      1\u001b[0m \u001b[38;5;28mprint\u001b[39m(sample_tuple)\n\u001b[0;32m----> 2\u001b[0m sample_tuple[\u001b[38;5;241m2\u001b[39m] \u001b[38;5;241m=\u001b[39m \u001b[38;5;124m'\u001b[39m\u001b[38;5;124mpython\u001b[39m\u001b[38;5;124m'\u001b[39m\n\u001b[1;32m      3\u001b[0m sample_tuple\n",
      "\u001b[0;31mTypeError\u001b[0m: 'tuple' object does not support item assignment"
     ]
    }
   ],
   "source": [
    "print(sample_tuple)\n",
    "sample_tuple[2] = 'python'\n",
    "sample_tuple"
   ]
  },
  {
   "cell_type": "markdown",
   "id": "d3ac9481",
   "metadata": {},
   "source": [
    "explain about immitublality"
   ]
  },
  {
   "cell_type": "code",
   "execution_count": 60,
   "id": "0b32a86c",
   "metadata": {},
   "outputs": [],
   "source": [
    "my_info = (\"Jane Doe\", \"123 Elm Street\", 28)"
   ]
  },
  {
   "cell_type": "code",
   "execution_count": 61,
   "id": "c5b986bf",
   "metadata": {},
   "outputs": [
    {
     "ename": "TypeError",
     "evalue": "'tuple' object does not support item assignment",
     "output_type": "error",
     "traceback": [
      "\u001b[0;31m---------------------------------------------------------------------------\u001b[0m",
      "\u001b[0;31mTypeError\u001b[0m                                 Traceback (most recent call last)",
      "Cell \u001b[0;32mIn[61], line 1\u001b[0m\n\u001b[0;32m----> 1\u001b[0m my_info[\u001b[38;5;241m2\u001b[39m] \u001b[38;5;241m=\u001b[39m \u001b[38;5;241m29\u001b[39m\n",
      "\u001b[0;31mTypeError\u001b[0m: 'tuple' object does not support item assignment"
     ]
    }
   ],
   "source": [
    "my_info[2] = 29  # Raises a TypeError"
   ]
  },
  {
   "cell_type": "code",
   "execution_count": 63,
   "id": "84c2bee9",
   "metadata": {},
   "outputs": [
    {
     "data": {
      "text/plain": [
       "('Jane Doe', '123 Elm Street', 29)"
      ]
     },
     "execution_count": 63,
     "metadata": {},
     "output_type": "execute_result"
    }
   ],
   "source": [
    "my_info[:2] + (29,)"
   ]
  },
  {
   "cell_type": "markdown",
   "id": "b2cafd59",
   "metadata": {},
   "source": [
    "so due to the immiutabilty add, remove is not availabe"
   ]
  },
  {
   "cell_type": "markdown",
   "id": "36b609b4",
   "metadata": {},
   "source": [
    "## Common Tuple operation"
   ]
  },
  {
   "cell_type": "code",
   "execution_count": 64,
   "id": "8bbb1aec",
   "metadata": {},
   "outputs": [],
   "source": [
    "## Concatenation"
   ]
  },
  {
   "cell_type": "code",
   "execution_count": 65,
   "id": "74c17374",
   "metadata": {},
   "outputs": [
    {
     "data": {
      "text/plain": [
       "[1, 2.0, 'hi', 3, (6, 7)]"
      ]
     },
     "execution_count": 65,
     "metadata": {},
     "output_type": "execute_result"
    }
   ],
   "source": [
    "tuple_1 = [1, 2.0, 'hi']\n",
    "tuple_2 = [3, (6, 7)]\n",
    "combination = tuple_1 + tuple_2\n",
    "combination"
   ]
  },
  {
   "cell_type": "markdown",
   "id": "fb405e60",
   "metadata": {},
   "source": [
    "What's the difference with extend?"
   ]
  },
  {
   "cell_type": "markdown",
   "id": "d3fa8c14",
   "metadata": {},
   "source": [
    "extend is inplace"
   ]
  },
  {
   "cell_type": "code",
   "execution_count": 67,
   "id": "0db98ef2",
   "metadata": {},
   "outputs": [
    {
     "data": {
      "text/plain": [
       "([1, 2.0, 'hi', 1, 2.0, 'hi'], [3, (6, 7)])"
      ]
     },
     "execution_count": 67,
     "metadata": {},
     "output_type": "execute_result"
    }
   ],
   "source": [
    "tuple_1, tuple_2"
   ]
  },
  {
   "cell_type": "code",
   "execution_count": 68,
   "id": "509e675c",
   "metadata": {},
   "outputs": [],
   "source": [
    "tuple_1.extend(tuple_2)"
   ]
  },
  {
   "cell_type": "code",
   "execution_count": 69,
   "id": "7ec69d33",
   "metadata": {},
   "outputs": [
    {
     "data": {
      "text/plain": [
       "[1, 2.0, 'hi', 1, 2.0, 'hi', 3, (6, 7), 3, (6, 7)]"
      ]
     },
     "execution_count": 69,
     "metadata": {},
     "output_type": "execute_result"
    }
   ],
   "source": [
    "tuple_1 + tuple_2"
   ]
  },
  {
   "cell_type": "markdown",
   "id": "d7f7fdca",
   "metadata": {},
   "source": [
    "## Replication"
   ]
  },
  {
   "cell_type": "code",
   "execution_count": null,
   "id": "70274240",
   "metadata": {},
   "outputs": [],
   "source": []
  },
  {
   "cell_type": "markdown",
   "id": "c16967c0",
   "metadata": {},
   "source": [
    "## Membership testing"
   ]
  },
  {
   "cell_type": "code",
   "execution_count": 71,
   "id": "54c5f4b9",
   "metadata": {},
   "outputs": [],
   "source": [
    "products =  ('laptop', 'iphone', 'mouse', 'keyboard', 'earbuds', 'laptop', 'iwatch')"
   ]
  },
  {
   "cell_type": "code",
   "execution_count": 72,
   "id": "f5d1815c",
   "metadata": {},
   "outputs": [
    {
     "data": {
      "text/plain": [
       "True"
      ]
     },
     "execution_count": 72,
     "metadata": {},
     "output_type": "execute_result"
    }
   ],
   "source": [
    "'iphone' in products"
   ]
  },
  {
   "cell_type": "code",
   "execution_count": 73,
   "id": "2bf1082f",
   "metadata": {},
   "outputs": [
    {
     "data": {
      "text/plain": [
       "True"
      ]
     },
     "execution_count": 73,
     "metadata": {},
     "output_type": "execute_result"
    }
   ],
   "source": [
    "'ipad' not in products"
   ]
  },
  {
   "cell_type": "markdown",
   "id": "14bf5ee4",
   "metadata": {},
   "source": [
    "## Finding the index of element"
   ]
  },
  {
   "cell_type": "code",
   "execution_count": 74,
   "id": "4f6e951c",
   "metadata": {},
   "outputs": [
    {
     "data": {
      "text/plain": [
       "1"
      ]
     },
     "execution_count": 74,
     "metadata": {},
     "output_type": "execute_result"
    }
   ],
   "source": [
    "products.index('iphone')"
   ]
  },
  {
   "cell_type": "code",
   "execution_count": 75,
   "id": "a2718a9c",
   "metadata": {},
   "outputs": [
    {
     "ename": "ValueError",
     "evalue": "tuple.index(x): x not in tuple",
     "output_type": "error",
     "traceback": [
      "\u001b[0;31m---------------------------------------------------------------------------\u001b[0m",
      "\u001b[0;31mValueError\u001b[0m                                Traceback (most recent call last)",
      "Cell \u001b[0;32mIn[75], line 1\u001b[0m\n\u001b[0;32m----> 1\u001b[0m products\u001b[38;5;241m.\u001b[39mindex(\u001b[38;5;124m'\u001b[39m\u001b[38;5;124mipad\u001b[39m\u001b[38;5;124m'\u001b[39m)\n",
      "\u001b[0;31mValueError\u001b[0m: tuple.index(x): x not in tuple"
     ]
    }
   ],
   "source": [
    "products.index('ipad')"
   ]
  },
  {
   "cell_type": "markdown",
   "id": "e866ba74",
   "metadata": {},
   "source": [
    "### Count number of occurence of an element in list"
   ]
  },
  {
   "cell_type": "code",
   "execution_count": 76,
   "id": "c26df48e",
   "metadata": {},
   "outputs": [
    {
     "data": {
      "text/plain": [
       "2"
      ]
     },
     "execution_count": 76,
     "metadata": {},
     "output_type": "execute_result"
    }
   ],
   "source": [
    "products.count('laptop')"
   ]
  },
  {
   "cell_type": "code",
   "execution_count": 77,
   "id": "428fbc30",
   "metadata": {},
   "outputs": [
    {
     "data": {
      "text/plain": [
       "0"
      ]
     },
     "execution_count": 77,
     "metadata": {},
     "output_type": "execute_result"
    }
   ],
   "source": [
    "products.count('ipad')"
   ]
  },
  {
   "cell_type": "markdown",
   "id": "bad14003",
   "metadata": {},
   "source": [
    "### Reversing the list"
   ]
  },
  {
   "cell_type": "markdown",
   "id": "224eef10",
   "metadata": {},
   "source": [
    "Tuples also do not have a `.reverse()` method and you can use the built-in `reversed()` function to reverse a tuple and return a new tuple with the reversed elements:"
   ]
  },
  {
   "cell_type": "code",
   "execution_count": 79,
   "id": "ec2c2f14",
   "metadata": {},
   "outputs": [
    {
     "ename": "AttributeError",
     "evalue": "'tuple' object has no attribute 'reverse'",
     "output_type": "error",
     "traceback": [
      "\u001b[0;31m---------------------------------------------------------------------------\u001b[0m",
      "\u001b[0;31mAttributeError\u001b[0m                            Traceback (most recent call last)",
      "Cell \u001b[0;32mIn[79], line 1\u001b[0m\n\u001b[0;32m----> 1\u001b[0m products\u001b[38;5;241m.\u001b[39mreverse()\n",
      "\u001b[0;31mAttributeError\u001b[0m: 'tuple' object has no attribute 'reverse'"
     ]
    }
   ],
   "source": [
    "products.reverse()"
   ]
  },
  {
   "cell_type": "code",
   "execution_count": 81,
   "id": "4026e300",
   "metadata": {},
   "outputs": [
    {
     "data": {
      "text/plain": [
       "<reversed at 0x7fcfe4e6e560>"
      ]
     },
     "execution_count": 81,
     "metadata": {},
     "output_type": "execute_result"
    }
   ],
   "source": [
    "reversed(products)"
   ]
  },
  {
   "cell_type": "code",
   "execution_count": 82,
   "id": "c380c31c",
   "metadata": {},
   "outputs": [
    {
     "data": {
      "text/plain": [
       "('iwatch', 'laptop', 'earbuds', 'keyboard', 'mouse', 'iphone', 'laptop')"
      ]
     },
     "execution_count": 82,
     "metadata": {},
     "output_type": "execute_result"
    }
   ],
   "source": [
    "tuple(reversed(products))"
   ]
  },
  {
   "cell_type": "markdown",
   "id": "3f1b1bd8",
   "metadata": {},
   "source": [
    "## sorting tuple"
   ]
  },
  {
   "cell_type": "markdown",
   "id": "ece9100e",
   "metadata": {},
   "source": [
    "Tuples do not have a `.sort()` method like lists do since they are immutable. However, you can use the built-in `sorted()` function to sort a tuple and return a new tuple with the sorted elements:"
   ]
  },
  {
   "cell_type": "code",
   "execution_count": 83,
   "id": "3dcbc709",
   "metadata": {},
   "outputs": [
    {
     "ename": "AttributeError",
     "evalue": "'tuple' object has no attribute 'sort'",
     "output_type": "error",
     "traceback": [
      "\u001b[0;31m---------------------------------------------------------------------------\u001b[0m",
      "\u001b[0;31mAttributeError\u001b[0m                            Traceback (most recent call last)",
      "Cell \u001b[0;32mIn[83], line 1\u001b[0m\n\u001b[0;32m----> 1\u001b[0m products\u001b[38;5;241m.\u001b[39msort()\n",
      "\u001b[0;31mAttributeError\u001b[0m: 'tuple' object has no attribute 'sort'"
     ]
    }
   ],
   "source": [
    "products.sort()"
   ]
  },
  {
   "cell_type": "code",
   "execution_count": 95,
   "id": "debf01e8",
   "metadata": {},
   "outputs": [],
   "source": [
    "integers = 1, 2, 5, 3, 5, 7, 4"
   ]
  },
  {
   "cell_type": "code",
   "execution_count": 96,
   "id": "a610f38b",
   "metadata": {},
   "outputs": [
    {
     "data": {
      "text/plain": [
       "[1, 2, 3, 4, 5, 5, 7]"
      ]
     },
     "execution_count": 96,
     "metadata": {},
     "output_type": "execute_result"
    }
   ],
   "source": [
    "sorted(integers)"
   ]
  },
  {
   "cell_type": "code",
   "execution_count": 97,
   "id": "1be4691b",
   "metadata": {},
   "outputs": [
    {
     "data": {
      "text/plain": [
       "((1, 2, 3, 4), (1, 2, 3, 4))"
      ]
     },
     "execution_count": 97,
     "metadata": {},
     "output_type": "execute_result"
    }
   ],
   "source": [
    "tuple_1 = (1, 2, 3, 4)\n",
    "tuple_2 = tuple_1\n",
    "tuple_1, tuple_2"
   ]
  },
  {
   "cell_type": "code",
   "execution_count": 98,
   "id": "84c590e6",
   "metadata": {},
   "outputs": [
    {
     "data": {
      "text/plain": [
       "True"
      ]
     },
     "execution_count": 98,
     "metadata": {},
     "output_type": "execute_result"
    }
   ],
   "source": [
    "id(tuple_1) == id(tuple_2)"
   ]
  },
  {
   "cell_type": "code",
   "execution_count": 99,
   "id": "33923b4e",
   "metadata": {},
   "outputs": [],
   "source": [
    "tuple_2 = tuple_1[:]"
   ]
  },
  {
   "cell_type": "code",
   "execution_count": 100,
   "id": "56a9c00c",
   "metadata": {},
   "outputs": [
    {
     "data": {
      "text/plain": [
       "True"
      ]
     },
     "execution_count": 100,
     "metadata": {},
     "output_type": "execute_result"
    }
   ],
   "source": [
    "id(tuple_1) == id(tuple_2)"
   ]
  },
  {
   "cell_type": "code",
   "execution_count": null,
   "id": "440350bc",
   "metadata": {},
   "outputs": [],
   "source": []
  },
  {
   "cell_type": "code",
   "execution_count": null,
   "id": "ade710d1",
   "metadata": {},
   "outputs": [],
   "source": []
  }
 ],
 "metadata": {
  "kernelspec": {
   "display_name": "Python 3 (ipykernel)",
   "language": "python",
   "name": "python3"
  },
  "language_info": {
   "codemirror_mode": {
    "name": "ipython",
    "version": 3
   },
   "file_extension": ".py",
   "mimetype": "text/x-python",
   "name": "python",
   "nbconvert_exporter": "python",
   "pygments_lexer": "ipython3",
   "version": "3.11.4"
  }
 },
 "nbformat": 4,
 "nbformat_minor": 5
}
